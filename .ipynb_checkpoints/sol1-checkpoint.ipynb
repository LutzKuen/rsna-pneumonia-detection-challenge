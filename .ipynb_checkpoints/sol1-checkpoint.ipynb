{
 "cells": [
  {
   "cell_type": "markdown",
   "metadata": {},
   "source": [
    "# taken from: https://www.kaggle.com/returnofsputnik/use-dicom-data-to-correct-your-predictions/notebook\n"
   ]
  },
  {
   "cell_type": "code",
   "execution_count": 3,
   "metadata": {},
   "outputs": [],
   "source": [
    "from functools import partial\n",
    "from collections import defaultdict\n",
    "import pydicom\n",
    "import os\n",
    "import glob\n",
    "import numpy as np\n",
    "import pandas as pd\n",
    "import matplotlib.pyplot as plt\n",
    "import matplotlib.patches as patches\n",
    "import seaborn as sns\n",
    "sns.set_style('whitegrid')\n",
    "%matplotlib inline\n",
    "\n",
    "np.warnings.filterwarnings('ignore')"
   ]
  },
  {
   "cell_type": "code",
   "execution_count": 8,
   "metadata": {},
   "outputs": [],
   "source": [
    "example_image = '../pneumonia_data/test_images/000db696-cf54-4385-b10b-6b16fbb3f985.dcm'\n",
    "DATA_DIR = '../pneumonia_data'\n",
    "IMAGE_DIR = '../pneumonia_data/test_images'\n",
    "labels = pd.read_csv(DATA_DIR+'/stage_1_train_labels.csv')\n",
    "details = pd.read_csv(DATA_DIR+'/stage_1_detailed_class_info.csv')\n",
    "# duplicates in details just have the same class so can be safely dropped\n",
    "details = details.drop_duplicates('patientId').reset_index(drop=True)\n",
    "labels_w_class = labels.merge(details, how='inner', on='patientId')"
   ]
  },
  {
   "cell_type": "code",
   "execution_count": 9,
   "metadata": {},
   "outputs": [],
   "source": [
    "# get lists of all train/test dicom filepaths\n",
    "train_dcm_fps = glob.glob(IMAGE_DIR+'/*.dcm')\n",
    "test_dcm_fps = glob.glob(IMAGE_DIR+'/*.dcm')\n",
    "\n",
    "train_dcms = [pydicom.read_file(x, stop_before_pixels=True) for x in train_dcm_fps]\n",
    "test_dcms = [pydicom.read_file(x, stop_before_pixels=True) for x in test_dcm_fps]"
   ]
  },
  {
   "cell_type": "code",
   "execution_count": 10,
   "metadata": {},
   "outputs": [],
   "source": [
    "def parse_dcm_metadata(dcm):\n",
    "    unpacked_data = {}\n",
    "    group_elem_to_keywords = {}\n",
    "    # iterating here to force conversion from lazy RawDataElement to DataElement\n",
    "    for d in dcm:\n",
    "        pass\n",
    "    # keys are pydicom.tag.BaseTag, values are pydicom.dataelem.DataElement\n",
    "    for tag, elem in dcm.items():\n",
    "        tag_group = tag.group\n",
    "        tag_elem = tag.elem\n",
    "        keyword = elem.keyword\n",
    "        group_elem_to_keywords[(tag_group, tag_elem)] = keyword\n",
    "        value = elem.value\n",
    "        unpacked_data[keyword] = value\n",
    "    return unpacked_data, group_elem_to_keywords\n",
    "\n",
    "train_meta_dicts, tag_to_keyword_train = zip(*[parse_dcm_metadata(x) for x in train_dcms])\n",
    "test_meta_dicts, tag_to_keyword_test = zip(*[parse_dcm_metadata(x) for x in test_dcms])"
   ]
  },
  {
   "cell_type": "code",
   "execution_count": 11,
   "metadata": {},
   "outputs": [
    {
     "data": {
      "text/plain": [
       "{(8, 5): 'SpecificCharacterSet',\n",
       " (8, 22): 'SOPClassUID',\n",
       " (8, 24): 'SOPInstanceUID',\n",
       " (8, 32): 'StudyDate',\n",
       " (8, 48): 'StudyTime',\n",
       " (8, 80): 'AccessionNumber',\n",
       " (8, 96): 'Modality',\n",
       " (8, 100): 'ConversionType',\n",
       " (8, 144): 'ReferringPhysicianName',\n",
       " (8, 4158): 'SeriesDescription',\n",
       " (16, 16): 'PatientName',\n",
       " (16, 32): 'PatientID',\n",
       " (16, 48): 'PatientBirthDate',\n",
       " (16, 64): 'PatientSex',\n",
       " (16, 4112): 'PatientAge',\n",
       " (24, 21): 'BodyPartExamined',\n",
       " (24, 20737): 'ViewPosition',\n",
       " (32, 13): 'StudyInstanceUID',\n",
       " (32, 14): 'SeriesInstanceUID',\n",
       " (32, 16): 'StudyID',\n",
       " (32, 17): 'SeriesNumber',\n",
       " (32, 19): 'InstanceNumber',\n",
       " (32, 32): 'PatientOrientation',\n",
       " (40, 2): 'SamplesPerPixel',\n",
       " (40, 4): 'PhotometricInterpretation',\n",
       " (40, 16): 'Rows',\n",
       " (40, 17): 'Columns',\n",
       " (40, 48): 'PixelSpacing',\n",
       " (40, 256): 'BitsAllocated',\n",
       " (40, 257): 'BitsStored',\n",
       " (40, 258): 'HighBit',\n",
       " (40, 259): 'PixelRepresentation',\n",
       " (40, 8464): 'LossyImageCompression',\n",
       " (40, 8468): 'LossyImageCompressionMethod'}"
      ]
     },
     "execution_count": 11,
     "metadata": {},
     "output_type": "execute_result"
    }
   ],
   "source": [
    "# join all the dicts\n",
    "unified_tag_to_key_train = {k:v for dict_ in tag_to_keyword_train for k,v in dict_.items()}\n",
    "unified_tag_to_key_test = {k:v for dict_ in tag_to_keyword_test for k,v in dict_.items()}\n",
    "\n",
    "# quick check to make sure there are no different keys between test/train\n",
    "assert len(set(unified_tag_to_key_test.keys()).symmetric_difference(set(unified_tag_to_key_train.keys()))) == 0\n",
    "\n",
    "tag_to_key = {**unified_tag_to_key_test, **unified_tag_to_key_train}\n",
    "tag_to_key"
   ]
  },
  {
   "cell_type": "code",
   "execution_count": 12,
   "metadata": {},
   "outputs": [],
   "source": [
    "# using from_records here since some values in the dicts will be iterables and some are constants\n",
    "train_df = pd.DataFrame.from_records(data=train_meta_dicts)\n",
    "test_df = pd.DataFrame.from_records(data=test_meta_dicts)\n",
    "train_df['dataset'] = 'train'\n",
    "test_df['dataset'] = 'test'\n",
    "df = pd.concat([train_df, test_df])"
   ]
  },
  {
   "cell_type": "code",
   "execution_count": 13,
   "metadata": {},
   "outputs": [
    {
     "data": {
      "text/html": [
       "<div>\n",
       "<style scoped>\n",
       "    .dataframe tbody tr th:only-of-type {\n",
       "        vertical-align: middle;\n",
       "    }\n",
       "\n",
       "    .dataframe tbody tr th {\n",
       "        vertical-align: top;\n",
       "    }\n",
       "\n",
       "    .dataframe thead th {\n",
       "        text-align: right;\n",
       "    }\n",
       "</style>\n",
       "<table border=\"1\" class=\"dataframe\">\n",
       "  <thead>\n",
       "    <tr style=\"text-align: right;\">\n",
       "      <th></th>\n",
       "      <th>AccessionNumber</th>\n",
       "      <th>BitsAllocated</th>\n",
       "      <th>BitsStored</th>\n",
       "      <th>BodyPartExamined</th>\n",
       "      <th>Columns</th>\n",
       "      <th>ConversionType</th>\n",
       "      <th>HighBit</th>\n",
       "      <th>InstanceNumber</th>\n",
       "      <th>LossyImageCompression</th>\n",
       "      <th>LossyImageCompressionMethod</th>\n",
       "      <th>...</th>\n",
       "      <th>SeriesDescription</th>\n",
       "      <th>SeriesInstanceUID</th>\n",
       "      <th>SeriesNumber</th>\n",
       "      <th>SpecificCharacterSet</th>\n",
       "      <th>StudyDate</th>\n",
       "      <th>StudyID</th>\n",
       "      <th>StudyInstanceUID</th>\n",
       "      <th>StudyTime</th>\n",
       "      <th>ViewPosition</th>\n",
       "      <th>dataset</th>\n",
       "    </tr>\n",
       "  </thead>\n",
       "  <tbody>\n",
       "    <tr>\n",
       "      <th>0</th>\n",
       "      <td></td>\n",
       "      <td>8</td>\n",
       "      <td>8</td>\n",
       "      <td>CHEST</td>\n",
       "      <td>1024</td>\n",
       "      <td>WSD</td>\n",
       "      <td>7</td>\n",
       "      <td>1</td>\n",
       "      <td>01</td>\n",
       "      <td>ISO_10918_1</td>\n",
       "      <td>...</td>\n",
       "      <td>view: AP</td>\n",
       "      <td>1.2.276.0.7230010.3.1.3.8323329.20023.15178744...</td>\n",
       "      <td>1</td>\n",
       "      <td>ISO_IR 100</td>\n",
       "      <td>19010101</td>\n",
       "      <td></td>\n",
       "      <td>1.2.276.0.7230010.3.1.2.8323329.20023.15178744...</td>\n",
       "      <td>000000.00</td>\n",
       "      <td>AP</td>\n",
       "      <td>train</td>\n",
       "    </tr>\n",
       "  </tbody>\n",
       "</table>\n",
       "<p>1 rows × 35 columns</p>\n",
       "</div>"
      ],
      "text/plain": [
       "  AccessionNumber  BitsAllocated  BitsStored BodyPartExamined  Columns  \\\n",
       "0                              8           8            CHEST     1024   \n",
       "\n",
       "  ConversionType  HighBit  InstanceNumber LossyImageCompression  \\\n",
       "0            WSD        7               1                    01   \n",
       "\n",
       "  LossyImageCompressionMethod   ...   SeriesDescription  \\\n",
       "0                 ISO_10918_1   ...            view: AP   \n",
       "\n",
       "                                   SeriesInstanceUID SeriesNumber  \\\n",
       "0  1.2.276.0.7230010.3.1.3.8323329.20023.15178744...            1   \n",
       "\n",
       "  SpecificCharacterSet StudyDate StudyID  \\\n",
       "0           ISO_IR 100  19010101           \n",
       "\n",
       "                                    StudyInstanceUID  StudyTime  ViewPosition  \\\n",
       "0  1.2.276.0.7230010.3.1.2.8323329.20023.15178744...  000000.00            AP   \n",
       "\n",
       "  dataset  \n",
       "0   train  \n",
       "\n",
       "[1 rows x 35 columns]"
      ]
     },
     "execution_count": 13,
     "metadata": {},
     "output_type": "execute_result"
    }
   ],
   "source": [
    "df.head(1)"
   ]
  },
  {
   "cell_type": "code",
   "execution_count": 14,
   "metadata": {},
   "outputs": [],
   "source": [
    "# separating PixelSpacing list to single values\n",
    "df['PixelSpacing_x'] = df['PixelSpacing'].apply(lambda x: x[0])\n",
    "df['PixelSpacing_y'] = df['PixelSpacing'].apply(lambda x: x[1])\n",
    "df = df.drop(['PixelSpacing'], axis='columns')\n",
    "\n",
    "# x and y are always the same\n",
    "assert sum(df['PixelSpacing_x'] != df['PixelSpacing_y']) == 0"
   ]
  },
  {
   "cell_type": "code",
   "execution_count": 15,
   "metadata": {},
   "outputs": [
    {
     "data": {
      "text/plain": [
       "{'view: AP', 'view: PA'}"
      ]
     },
     "execution_count": 15,
     "metadata": {},
     "output_type": "execute_result"
    }
   ],
   "source": [
    "# ReferringPhysicianName appears to just be empty strings\n",
    "assert sum(df['ReferringPhysicianName'] != '') == 0\n",
    "\n",
    "# SeriesDescription appears to be 'view: {}'.format(ViewPosition)\n",
    "set(df['SeriesDescription'].unique())\n",
    "\n",
    "# so these two columns don't have any useful info and can be safely dropped"
   ]
  },
  {
   "cell_type": "code",
   "execution_count": 16,
   "metadata": {},
   "outputs": [
    {
     "data": {
      "text/plain": [
       "AccessionNumber                   1\n",
       "BitsAllocated                     1\n",
       "BitsStored                        1\n",
       "BodyPartExamined                  1\n",
       "Columns                           1\n",
       "ConversionType                    1\n",
       "HighBit                           1\n",
       "InstanceNumber                    1\n",
       "LossyImageCompression             1\n",
       "LossyImageCompressionMethod       1\n",
       "Modality                          1\n",
       "PatientAge                       79\n",
       "PatientBirthDate                  1\n",
       "PatientID                      1000\n",
       "PatientName                    2000\n",
       "PatientOrientation                1\n",
       "PatientSex                        2\n",
       "PhotometricInterpretation         1\n",
       "PixelRepresentation               1\n",
       "ReferringPhysicianName          874\n",
       "Rows                              1\n",
       "SOPClassUID                       1\n",
       "SOPInstanceUID                 1000\n",
       "SamplesPerPixel                   1\n",
       "SeriesDescription                 2\n",
       "SeriesInstanceUID              1000\n",
       "SeriesNumber                      1\n",
       "SpecificCharacterSet              1\n",
       "StudyDate                         1\n",
       "StudyID                           1\n",
       "StudyInstanceUID               1000\n",
       "StudyTime                         1\n",
       "ViewPosition                      2\n",
       "dataset                           2\n",
       "PixelSpacing_x                    7\n",
       "PixelSpacing_y                    7\n",
       "dtype: int64"
      ]
     },
     "execution_count": 16,
     "metadata": {},
     "output_type": "execute_result"
    }
   ],
   "source": [
    "nunique_all = df.aggregate('nunique')\n",
    "nunique_all"
   ]
  },
  {
   "cell_type": "code",
   "execution_count": 17,
   "metadata": {},
   "outputs": [],
   "source": [
    "# drop constant cols and other two from above\n",
    "#ReferringPhysicianName is all ''\n",
    "#PatientName is the same as PatientID\n",
    "#PixelSpacing_y is the same as PixelSpacing_x\n",
    "#The series and SOP UID's are just random numbers / id's, so I'm deleting them too\n",
    "df = df.drop(nunique_all[nunique_all == 1].index.tolist() + ['SeriesDescription', 'ReferringPhysicianName', 'PatientName', 'PixelSpacing_y', 'SOPInstanceUID','SeriesInstanceUID','StudyInstanceUID'], axis='columns')\n",
    "\n",
    "# now that we have a clean metadata dataframe we can merge back to our initial tabular data with target and class info\n",
    "df = df.merge(labels_w_class, how='left', left_on='PatientID', right_on='patientId')\n",
    "\n",
    "df['PatientAge'] = df['PatientAge'].astype(int)"
   ]
  }
 ],
 "metadata": {
  "kernelspec": {
   "display_name": "Python 3",
   "language": "python",
   "name": "python3"
  },
  "language_info": {
   "codemirror_mode": {
    "name": "ipython",
    "version": 3
   },
   "file_extension": ".py",
   "mimetype": "text/x-python",
   "name": "python",
   "nbconvert_exporter": "python",
   "pygments_lexer": "ipython3",
   "version": "3.6.5"
  }
 },
 "nbformat": 4,
 "nbformat_minor": 2
}
